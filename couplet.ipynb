{
  "nbformat": 4,
  "nbformat_minor": 0,
  "metadata": {
    "colab": {
      "name": "couplet.ipynb",
      "provenance": [],
      "collapsed_sections": [],
      "authorship_tag": "ABX9TyNfjmRJqHWL/Y29MpeJ4ZEY",
      "include_colab_link": true
    },
    "kernelspec": {
      "name": "python3",
      "display_name": "Python 3"
    },
    "accelerator": "GPU"
  },
  "cells": [
    {
      "cell_type": "markdown",
      "metadata": {
        "id": "view-in-github",
        "colab_type": "text"
      },
      "source": [
        "<a href=\"https://colab.research.google.com/github/2019zhou/flask-Couplet/blob/main/couplet.ipynb\" target=\"_parent\"><img src=\"https://colab.research.google.com/assets/colab-badge.svg\" alt=\"Open In Colab\"/></a>"
      ]
    },
    {
      "cell_type": "code",
      "metadata": {
        "id": "oHra3nUL-2Gn"
      },
      "source": [
        "%%bash\r\n",
        "wget https://github.91chifun.workers.dev//https://github.com/pytorch/fairseq/archive/v0.10.1.zip"
      ],
      "execution_count": null,
      "outputs": []
    },
    {
      "cell_type": "code",
      "metadata": {
        "id": "46i43sXDFO_5"
      },
      "source": [
        "%%bash\r\n",
        "unzip v0.10.1.zip\r\n",
        "mv fairseq-0.10.1 fairseq\r\n",
        "cd fairseq\r\n",
        "pip install --editable ./"
      ],
      "execution_count": null,
      "outputs": []
    },
    {
      "cell_type": "code",
      "metadata": {
        "id": "qKUmXkRaS5yW"
      },
      "source": [
        "%%bash\r\n",
        "wget -O \"fairseq.tar.gz\" https://lxylab.oss-cn-shanghai.aliyuncs.com/fairseq/fairseq.tar.gz?Expires=1613892173&OSSAccessKeyId=TMP.3KefFe833Phg9GYBdLccdwPsLocBjR6YnV9tbJMjYdo2Av1is9hgpgm9AvGeZufQXKvmaoMKEPPBBMBxTuQkcktbNQi2Cg&Signature=xRmS07NFI9XhPF9nc9AqxzW00oA%3D&versionId=CAEQGRiBgIDosIKNvhciIDZkZTM0M2EwZjViYjRjNjNhZTYxZjIwN2QxNjc3NDk4&response-content-type=application%2Foctet-stream\r\n",
        "rm -rf ./fairseq\r\n",
        "tar -zxvf \"fairseq.tar.gz\"\r\n",
        "cd fairseq\r\n",
        "pip install -e ./\r\n",
        "cd .."
      ],
      "execution_count": null,
      "outputs": []
    },
    {
      "cell_type": "code",
      "metadata": {
        "id": "UJ6aPUijFjr-"
      },
      "source": [
        "%%bash\r\n",
        "mkdir -p /content/fairseq/checkpoints/fconv"
      ],
      "execution_count": 2,
      "outputs": []
    },
    {
      "cell_type": "code",
      "metadata": {
        "colab": {
          "base_uri": "https://localhost:8080/"
        },
        "id": "egnKz9PZBk1q",
        "outputId": "eb7af7be-aac5-453b-b0d9-534233eaf4bc"
      },
      "source": [
        "%%bash\r\n",
        "git clone https://github.com/luxinyu1/Chinese-couplet.git"
      ],
      "execution_count": 3,
      "outputs": [
        {
          "output_type": "stream",
          "text": [
            "Cloning into 'Chinese-couplet'...\n"
          ],
          "name": "stderr"
        }
      ]
    },
    {
      "cell_type": "code",
      "metadata": {
        "id": "jCYhCPBuByUB"
      },
      "source": [
        "%%bash\r\n",
        "wget https://lxylab.oss-cn-shanghai.aliyuncs.com/chinese-couplet/checkpoint_best.pt?Expires=1613749934&OSSAccessKeyId=TMP.3Kf8DcbtTrmbyK1db8w9NnGyN4Wt7c3SEkAGL3v2UDzkc2CRusmiWLEjdSBVPatN4N7mEDcxBHipFrSxkfvKRA11ptXbYn&Signature=rNsVORC2gK5ioKszqsWN7kcQ0uU%3D&versionId=CAEQGRiBgMCl1vXfvRciIGJhNTkyYTU0NzdhNTRmNDA5ZjY3ZjIzNWI2NDQzNTNi&response-content-type=application%2Foctet-stream"
      ],
      "execution_count": null,
      "outputs": []
    },
    {
      "cell_type": "code",
      "metadata": {
        "id": "mG3UF1L_CcI9"
      },
      "source": [
        "%%bash\r\n",
        "mv checkpoint_best.pt?Expires=1613749934 checkpoint_best.pt"
      ],
      "execution_count": 5,
      "outputs": []
    },
    {
      "cell_type": "code",
      "metadata": {
        "id": "sVgWWoM6F5yH"
      },
      "source": [
        "!mv checkpoint_best.pt /content/fairseq/checkpoints/fconv/"
      ],
      "execution_count": 6,
      "outputs": []
    },
    {
      "cell_type": "code",
      "metadata": {
        "colab": {
          "base_uri": "https://localhost:8080/"
        },
        "id": "SkxY4oUOGJnb",
        "outputId": "874344e4-d3f4-4b27-a1a6-da8bf42930ed"
      },
      "source": [
        "%cd fairseq"
      ],
      "execution_count": 7,
      "outputs": [
        {
          "output_type": "stream",
          "text": [
            "/content/fairseq\n"
          ],
          "name": "stdout"
        }
      ]
    },
    {
      "cell_type": "code",
      "metadata": {
        "id": "e2KviTBYIddY"
      },
      "source": [
        "mv /content/Chinese-couplet/couplet-bin /content/fairseq"
      ],
      "execution_count": 8,
      "outputs": []
    },
    {
      "cell_type": "code",
      "metadata": {
        "id": "zdbXGpjLB87G"
      },
      "source": [
        "%%bash\r\n",
        "fairseq-generate /content/couplet-bin \\\r\n",
        "  --source-lang \"src\" \\\r\n",
        "  --target-lang \"dst\" \\\r\n",
        "  --path /content/checkpoint_best.pt \\\r\n",
        "  --beam 5 \\"
      ],
      "execution_count": null,
      "outputs": []
    },
    {
      "cell_type": "code",
      "metadata": {
        "id": "SFZkFHA0GUKK"
      },
      "source": [
        "%%bash\r\n",
        "fairseq-interactive /content/fairseq/couplet-bin \\\r\n",
        "    --path /content/fairseq/checkpoints/fconv/checkpoint_best.pt \\\r\n",
        "    --source-lang \"src\" \\\r\n",
        "    --target-lang \"dst\" \\\r\n",
        "    --beam 5 --input /content/input.txt >  /content/output.txt"
      ],
      "execution_count": 16,
      "outputs": []
    },
    {
      "cell_type": "code",
      "metadata": {
        "id": "fDNaxi9eZDJQ"
      },
      "source": [
        "%%bash\r\n",
        "grep ^H /content/output.txt | cut -f3- > /content/output2.txt"
      ],
      "execution_count": 25,
      "outputs": []
    },
    {
      "cell_type": "code",
      "metadata": {
        "id": "pD5vV22V_i1N",
        "colab": {
          "base_uri": "https://localhost:8080/"
        },
        "outputId": "4e8986b1-c79f-481d-d3a5-8aef55def80c"
      },
      "source": [
        "!pip install Flask"
      ],
      "execution_count": 32,
      "outputs": [
        {
          "output_type": "stream",
          "text": [
            "Requirement already satisfied: Flask in /usr/local/lib/python3.6/dist-packages (1.1.2)\n",
            "Requirement already satisfied: itsdangerous>=0.24 in /usr/local/lib/python3.6/dist-packages (from Flask) (1.1.0)\n",
            "Requirement already satisfied: Werkzeug>=0.15 in /usr/local/lib/python3.6/dist-packages (from Flask) (1.0.1)\n",
            "Requirement already satisfied: click>=5.1 in /usr/local/lib/python3.6/dist-packages (from Flask) (7.1.2)\n",
            "Requirement already satisfied: Jinja2>=2.10.1 in /usr/local/lib/python3.6/dist-packages (from Flask) (2.11.3)\n",
            "Requirement already satisfied: MarkupSafe>=0.23 in /usr/local/lib/python3.6/dist-packages (from Jinja2>=2.10.1->Flask) (1.1.1)\n"
          ],
          "name": "stdout"
        }
      ]
    },
    {
      "cell_type": "code",
      "metadata": {
        "id": "fx8NaC_W_Q7L",
        "colab": {
          "base_uri": "https://localhost:8080/"
        },
        "outputId": "2116e429-e051-48fd-e837-159a77e450ab"
      },
      "source": [
        "!pip install flask-ngrok"
      ],
      "execution_count": 33,
      "outputs": [
        {
          "output_type": "stream",
          "text": [
            "Collecting flask-ngrok\n",
            "  Downloading https://files.pythonhosted.org/packages/af/6c/f54cb686ad1129e27d125d182f90f52b32f284e6c8df58c1bae54fa1adbc/flask_ngrok-0.0.25-py3-none-any.whl\n",
            "Requirement already satisfied: Flask>=0.8 in /usr/local/lib/python3.6/dist-packages (from flask-ngrok) (1.1.2)\n",
            "Requirement already satisfied: requests in /usr/local/lib/python3.6/dist-packages (from flask-ngrok) (2.23.0)\n",
            "Requirement already satisfied: itsdangerous>=0.24 in /usr/local/lib/python3.6/dist-packages (from Flask>=0.8->flask-ngrok) (1.1.0)\n",
            "Requirement already satisfied: click>=5.1 in /usr/local/lib/python3.6/dist-packages (from Flask>=0.8->flask-ngrok) (7.1.2)\n",
            "Requirement already satisfied: Jinja2>=2.10.1 in /usr/local/lib/python3.6/dist-packages (from Flask>=0.8->flask-ngrok) (2.11.3)\n",
            "Requirement already satisfied: Werkzeug>=0.15 in /usr/local/lib/python3.6/dist-packages (from Flask>=0.8->flask-ngrok) (1.0.1)\n",
            "Requirement already satisfied: idna<3,>=2.5 in /usr/local/lib/python3.6/dist-packages (from requests->flask-ngrok) (2.10)\n",
            "Requirement already satisfied: urllib3!=1.25.0,!=1.25.1,<1.26,>=1.21.1 in /usr/local/lib/python3.6/dist-packages (from requests->flask-ngrok) (1.24.3)\n",
            "Requirement already satisfied: chardet<4,>=3.0.2 in /usr/local/lib/python3.6/dist-packages (from requests->flask-ngrok) (3.0.4)\n",
            "Requirement already satisfied: certifi>=2017.4.17 in /usr/local/lib/python3.6/dist-packages (from requests->flask-ngrok) (2020.12.5)\n",
            "Requirement already satisfied: MarkupSafe>=0.23 in /usr/local/lib/python3.6/dist-packages (from Jinja2>=2.10.1->Flask>=0.8->flask-ngrok) (1.1.1)\n",
            "Installing collected packages: flask-ngrok\n",
            "Successfully installed flask-ngrok-0.0.25\n"
          ],
          "name": "stdout"
        }
      ]
    },
    {
      "cell_type": "code",
      "metadata": {
        "id": "TNyqS6EJXMEd"
      },
      "source": [
        "import subprocess\r\n",
        "import re \r\n",
        "\r\n",
        "def getresult(firstLine):\r\n",
        "  print(firstLine)\r\n",
        "  firstLine = firstLine.strip()\r\n",
        "  strtmp = \"\"\r\n",
        "  for x in firstLine:\r\n",
        "    strtmp += x + \" \"\r\n",
        "  filename = \"/content/input.txt\"\r\n",
        "  file = open(filename, \"w\")\r\n",
        "  file.write(strtmp)\r\n",
        "  file.close()\r\n",
        "  p = subprocess.Popen(['fairseq-interactive /content/fairseq/couplet-bin \\\r\n",
        "  --path /content/fairseq/checkpoints/fconv/checkpoint_best.pt --source-lang \"src\" \\\r\n",
        "  --target-lang \"dst\" --beam 5 --input %s > /content/output.txt'%(filename)],shell=True, stdout=subprocess.PIPE)  \r\n",
        "  out, err = p.communicate()  \r\n",
        "  p2 = subprocess.Popen(['grep ^H /content/output.txt | cut -f3- > /content/output2.txt'],shell=True)\r\n",
        "  out2, err2 = p2.communicate()\r\n",
        "  f = open(\"/content/output2.txt\")\r\n",
        "  res = f.read()\r\n",
        "  f.close()\r\n",
        "  return \"\".join(res.split())\r\n"
      ],
      "execution_count": 44,
      "outputs": []
    },
    {
      "cell_type": "code",
      "metadata": {
        "colab": {
          "base_uri": "https://localhost:8080/",
          "height": 52
        },
        "id": "4si9MS5LevC6",
        "outputId": "01326442-66cd-4fe0-b44e-fa4cb246ec72"
      },
      "source": [
        "getresult(\"春眠不知晓\")"
      ],
      "execution_count": 45,
      "outputs": [
        {
          "output_type": "stream",
          "text": [
            "春眠不知晓\n"
          ],
          "name": "stdout"
        },
        {
          "output_type": "execute_result",
          "data": {
            "application/vnd.google.colaboratory.intrinsic+json": {
              "type": "string"
            },
            "text/plain": [
              "'秋雨不知音'"
            ]
          },
          "metadata": {
            "tags": []
          },
          "execution_count": 45
        }
      ]
    },
    {
      "cell_type": "code",
      "metadata": {
        "colab": {
          "base_uri": "https://localhost:8080/"
        },
        "id": "-AlQbBt-eGa9",
        "outputId": "7d4933d5-a00a-4d2e-d896-35c17aac5add"
      },
      "source": [
        "%cd /content"
      ],
      "execution_count": 37,
      "outputs": [
        {
          "output_type": "stream",
          "text": [
            "/content\n"
          ],
          "name": "stdout"
        }
      ]
    },
    {
      "cell_type": "code",
      "metadata": {
        "colab": {
          "base_uri": "https://localhost:8080/"
        },
        "id": "IF-HFB8H_XpY",
        "outputId": "7335ccbd-1b4a-4127-b7c1-b2b6ad8eac4d"
      },
      "source": [
        "from flask_ngrok import run_with_ngrok\r\n",
        "from flask import Flask, request, render_template\r\n",
        "app = Flask(__name__)\r\n",
        "run_with_ngrok(app)   #starts ngrok when the app is run\r\n",
        "\r\n",
        "# def getresult(firstLine):\r\n",
        "#     p = subprocess.Popen('fairseq-interactive couplet-bin --source-lang \"src\" --target-lang \"dst\" \\\r\n",
        "#     --path checkpoint_best.pt \\\r\n",
        "#     --beam 5 ',shell=True,stdout=subprocess.PIPE)  \r\n",
        "#     out,err = p.communicate()  \r\n",
        "#     line1 = \"\"\r\n",
        "#     print(out)\r\n",
        "#     for line in out.splitlines():\r\n",
        "#         print(line)\r\n",
        "#         line1 = line\r\n",
        "#     return line1\r\n",
        "\r\n",
        "\r\n",
        "@app.route('/', methods=['GET', 'POST'])\r\n",
        "def index():\r\n",
        "    if request.method == 'GET':\r\n",
        "        return render_template('index.html')\r\n",
        "    elif request.method == 'POST':\r\n",
        "        secondlinetmp = getresult(request.form['firstLine'])\r\n",
        "        Couplets = {\r\n",
        "            'firstLine':request.form['firstLine'],\r\n",
        "            'secondLine': secondlinetmp,\r\n",
        "        }\r\n",
        "        return render_template('predict.html', **Couplets)\r\n",
        "\r\n",
        "app.run()"
      ],
      "execution_count": null,
      "outputs": [
        {
          "output_type": "stream",
          "text": [
            " * Serving Flask app \"__main__\" (lazy loading)\n",
            " * Environment: production\n",
            "\u001b[31m   WARNING: This is a development server. Do not use it in a production deployment.\u001b[0m\n",
            "\u001b[2m   Use a production WSGI server instead.\u001b[0m\n",
            " * Debug mode: off\n"
          ],
          "name": "stdout"
        },
        {
          "output_type": "stream",
          "text": [
            " * Running on http://127.0.0.1:5000/ (Press CTRL+C to quit)\n"
          ],
          "name": "stderr"
        },
        {
          "output_type": "stream",
          "text": [
            " * Running on http://17846882dd86.ngrok.io\n",
            " * Traffic stats available on http://127.0.0.1:4040\n"
          ],
          "name": "stdout"
        },
        {
          "output_type": "stream",
          "text": [
            "127.0.0.1 - - [21/Feb/2021 07:51:26] \"\u001b[37mGET / HTTP/1.1\u001b[0m\" 200 -\n",
            "127.0.0.1 - - [21/Feb/2021 07:51:27] \"\u001b[33mGET /favicon.ico HTTP/1.1\u001b[0m\" 404 -\n",
            "127.0.0.1 - - [21/Feb/2021 07:51:31] \"\u001b[37mGET / HTTP/1.1\u001b[0m\" 200 -\n",
            "127.0.0.1 - - [21/Feb/2021 07:51:49] \"\u001b[37mGET / HTTP/1.1\u001b[0m\" 200 -\n",
            "127.0.0.1 - - [21/Feb/2021 07:51:50] \"\u001b[33mGET /favicon.ico HTTP/1.1\u001b[0m\" 404 -\n"
          ],
          "name": "stderr"
        },
        {
          "output_type": "stream",
          "text": [
            "春 眠 不 觉 晓\n"
          ],
          "name": "stdout"
        },
        {
          "output_type": "stream",
          "text": [
            "127.0.0.1 - - [21/Feb/2021 07:52:37] \"\u001b[37mPOST / HTTP/1.1\u001b[0m\" 200 -\n",
            "127.0.0.1 - - [21/Feb/2021 07:52:38] \"\u001b[37mGET / HTTP/1.1\u001b[0m\" 200 -\n",
            "127.0.0.1 - - [21/Feb/2021 07:52:40] \"\u001b[37mGET / HTTP/1.1\u001b[0m\" 200 -\n",
            "127.0.0.1 - - [21/Feb/2021 07:52:41] \"\u001b[37mGET / HTTP/1.1\u001b[0m\" 200 -\n"
          ],
          "name": "stderr"
        },
        {
          "output_type": "stream",
          "text": [
            "春眠不知晓\n"
          ],
          "name": "stdout"
        },
        {
          "output_type": "stream",
          "text": [
            "127.0.0.1 - - [21/Feb/2021 07:55:47] \"\u001b[37mPOST / HTTP/1.1\u001b[0m\" 200 -\n"
          ],
          "name": "stderr"
        }
      ]
    },
    {
      "cell_type": "code",
      "metadata": {
        "id": "w45r7ZxdH4Ax"
      },
      "source": [
        ""
      ],
      "execution_count": null,
      "outputs": []
    }
  ]
}